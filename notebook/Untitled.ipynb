{
 "cells": [
  {
   "cell_type": "code",
   "execution_count": 1,
   "id": "4e2c6020",
   "metadata": {},
   "outputs": [],
   "source": [
    "import numpy as np\n",
    "import matplotlib.pyplot as plt\n",
    "%matplotlib inline\n",
    "import tensorflow as tf\n",
    "import pandas as pd\n",
    "import os, requests, cv2, random\n",
    "from tensorflow.keras.models import Sequential\n",
    "from tensorflow.keras.layers import Conv2D, MaxPooling2D, Flatten, Dense\n",
    "from tensorflow.keras.callbacks import EarlyStopping\n",
    "from tensorflow.keras.optimizers import Adam\n",
    "from tensorflow.keras import models\n",
    "from tensorflow.keras import Sequential, layers\n",
    "from keras.preprocessing.image import ImageDataGenerator\n",
    "from tensorflow import keras\n",
    "from sklearn.metrics import confusion_matrix,classification_report"
   ]
  },
  {
   "cell_type": "code",
   "execution_count": 2,
   "id": "863ca299",
   "metadata": {},
   "outputs": [],
   "source": [
    "train_path = \"C:\\\\Users\\\\Niranjan\\\\Documents\\\\Data mining\\\\archive (1)\\\\tomato\\\\train\"\n",
    "valid_path = \"C:\\\\Users\\\\Niranjan\\\\Documents\\\\Data mining\\\\archive (1)\\\\tomato\\\\val\""
   ]
  },
  {
   "cell_type": "code",
   "execution_count": 3,
   "id": "eb7da38d",
   "metadata": {},
   "outputs": [],
   "source": [
    "# for this challenge we are using ImageDataGenerator \n",
    "\n",
    "train_datagen = ImageDataGenerator(rescale=1/255.0,\n",
    "                               shear_range=0.2,\n",
    "                                zoom_range=0.2,\n",
    "                                horizontal_flip=True,\n",
    "                                validation_split=0.3)# specifying the validation split inside the function\n",
    "\n",
    "test_datagen = ImageDataGenerator(rescale=1/255.0,\n",
    "                                shear_range=0.2,\n",
    "                                zoom_range=0.2,\n",
    "                                horizontal_flip=True)"
   ]
  },
  {
   "cell_type": "code",
   "execution_count": 9,
   "id": "a9eb64cb",
   "metadata": {},
   "outputs": [
    {
     "name": "stdout",
     "output_type": "stream",
     "text": [
      "Found 7000 images belonging to 10 classes.\n"
     ]
    }
   ],
   "source": [
    "train_gen = train_datagen.flow_from_directory(\n",
    "                                train_path,\n",
    "                                target_size=(224, 224),\n",
    "                                batch_size=32,\n",
    "                                shuffle=True,\n",
    "                                class_mode='categorical',\n",
    "                                subset='training')"
   ]
  },
  {
   "cell_type": "code",
   "execution_count": 10,
   "id": "a58e2e11",
   "metadata": {},
   "outputs": [
    {
     "name": "stdout",
     "output_type": "stream",
     "text": [
      "Found 3000 images belonging to 10 classes.\n"
     ]
    }
   ],
   "source": [
    "val_gen = train_datagen.flow_from_directory(\n",
    "                                train_path,\n",
    "                                target_size=(224,224),\n",
    "                                batch_size=32,\n",
    "                                shuffle=True,\n",
    "                                class_mode='categorical',\n",
    "                                subset='validation')"
   ]
  },
  {
   "cell_type": "code",
   "execution_count": 14,
   "id": "d02e0c37",
   "metadata": {},
   "outputs": [
    {
     "name": "stdout",
     "output_type": "stream",
     "text": [
      "Found 984 images belonging to 10 classes.\n"
     ]
    }
   ],
   "source": [
    "test_gen = test_datagen.flow_from_directory(\n",
    "        valid_path,\n",
    "        target_size=(224, 224),\n",
    "        batch_size=32,\n",
    "        class_mode='categorical',\n",
    "        shuffle = False)"
   ]
  },
  {
   "cell_type": "code",
   "execution_count": 15,
   "id": "14fb2831",
   "metadata": {},
   "outputs": [],
   "source": [
    "cnn = models.Sequential()\n",
    "\n",
    "cnn.add(layers.Conv2D (32, kernel_size = (3,3), activation='relu', input_shape = [224, 224,3])),\n",
    "cnn.add(layers.MaxPooling2D(pool_size = (2, 2))),\n",
    "\n",
    "cnn.add(layers.Conv2D(64, (3,3), activation='relu')),\n",
    "cnn.add(layers. MaxPooling2D((2, 2))),\n",
    "\n",
    "cnn.add(layers.Conv2D (64, (3,3), activation='relu')),\n",
    "cnn.add(layers.MaxPooling2D((2, 2))),\n",
    "\n",
    "cnn.add(layers.Conv2D(64, (3, 3), activation='relu')), \n",
    "cnn.add(layers.MaxPooling2D((2, 2))),\n",
    "\n",
    "cnn.add(layers. Conv2D (64, (3, 3), activation='relu')), \n",
    "cnn.add(layers.MaxPooling2D((2, 2))),\n",
    "\n",
    "cnn.add(layers.Conv2D(64, (3, 3), activation='relu')), \n",
    "cnn.add(layers.MaxPooling2D((2, 2))),\n",
    "\n",
    "cnn.add(layers.Flatten()),\n",
    "\n",
    "cnn.add(layers.Dense(64,activation='relu'))\n",
    "#output layer\n",
    "cnn.add(layers.Dense(10,activation='softmax'))"
   ]
  },
  {
   "cell_type": "code",
   "execution_count": 16,
   "id": "22cb93fa",
   "metadata": {},
   "outputs": [
    {
     "name": "stdout",
     "output_type": "stream",
     "text": [
      "Model: \"sequential\"\n",
      "_________________________________________________________________\n",
      " Layer (type)                Output Shape              Param #   \n",
      "=================================================================\n",
      " conv2d (Conv2D)             (None, 222, 222, 32)      896       \n",
      "                                                                 \n",
      " max_pooling2d (MaxPooling2D  (None, 111, 111, 32)     0         \n",
      " )                                                               \n",
      "                                                                 \n",
      " conv2d_1 (Conv2D)           (None, 109, 109, 64)      18496     \n",
      "                                                                 \n",
      " max_pooling2d_1 (MaxPooling  (None, 54, 54, 64)       0         \n",
      " 2D)                                                             \n",
      "                                                                 \n",
      " conv2d_2 (Conv2D)           (None, 52, 52, 64)        36928     \n",
      "                                                                 \n",
      " max_pooling2d_2 (MaxPooling  (None, 26, 26, 64)       0         \n",
      " 2D)                                                             \n",
      "                                                                 \n",
      " conv2d_3 (Conv2D)           (None, 24, 24, 64)        36928     \n",
      "                                                                 \n",
      " max_pooling2d_3 (MaxPooling  (None, 12, 12, 64)       0         \n",
      " 2D)                                                             \n",
      "                                                                 \n",
      " conv2d_4 (Conv2D)           (None, 10, 10, 64)        36928     \n",
      "                                                                 \n",
      " max_pooling2d_4 (MaxPooling  (None, 5, 5, 64)         0         \n",
      " 2D)                                                             \n",
      "                                                                 \n",
      " conv2d_5 (Conv2D)           (None, 3, 3, 64)          36928     \n",
      "                                                                 \n",
      " max_pooling2d_5 (MaxPooling  (None, 1, 1, 64)         0         \n",
      " 2D)                                                             \n",
      "                                                                 \n",
      " flatten (Flatten)           (None, 64)                0         \n",
      "                                                                 \n",
      " dense (Dense)               (None, 64)                4160      \n",
      "                                                                 \n",
      " dense_1 (Dense)             (None, 10)                650       \n",
      "                                                                 \n",
      "=================================================================\n",
      "Total params: 171,914\n",
      "Trainable params: 171,914\n",
      "Non-trainable params: 0\n",
      "_________________________________________________________________\n"
     ]
    }
   ],
   "source": [
    "cnn.summary()"
   ]
  },
  {
   "cell_type": "code",
   "execution_count": 17,
   "id": "e46de760",
   "metadata": {},
   "outputs": [],
   "source": [
    "opt = keras.optimizers.Adam(learning_rate=0.001)"
   ]
  },
  {
   "cell_type": "code",
   "execution_count": 18,
   "id": "54ec508d",
   "metadata": {},
   "outputs": [],
   "source": [
    "cnn.compile(optimizer=opt,loss='categorical_crossentropy',metrics=['accuracy'])"
   ]
  },
  {
   "cell_type": "code",
   "execution_count": 19,
   "id": "caa9af6e",
   "metadata": {},
   "outputs": [],
   "source": [
    "es = EarlyStopping(monitor = 'val_accuracy', \n",
    "                   mode = 'max', \n",
    "                   patience = 20, \n",
    "                   verbose = 1, \n",
    "                   restore_best_weights = True)"
   ]
  },
  {
   "cell_type": "code",
   "execution_count": 20,
   "id": "970d5a70",
   "metadata": {
    "scrolled": true
   },
   "outputs": [
    {
     "name": "stdout",
     "output_type": "stream",
     "text": [
      "Epoch 1/100\n",
      "218/218 [==============================] - 141s 610ms/step - loss: 2.0273 - accuracy: 0.2400 - val_loss: 1.7985 - val_accuracy: 0.3500\n",
      "Epoch 2/100\n",
      "218/218 [==============================] - 60s 273ms/step - loss: 1.4021 - accuracy: 0.4886 - val_loss: 1.1840 - val_accuracy: 0.5757\n",
      "Epoch 3/100\n",
      "218/218 [==============================] - 60s 276ms/step - loss: 1.0809 - accuracy: 0.6123 - val_loss: 1.0167 - val_accuracy: 0.6283\n",
      "Epoch 4/100\n",
      "218/218 [==============================] - 60s 275ms/step - loss: 0.8629 - accuracy: 0.6831 - val_loss: 0.7077 - val_accuracy: 0.7447\n",
      "Epoch 5/100\n",
      "218/218 [==============================] - 60s 274ms/step - loss: 0.7368 - accuracy: 0.7337 - val_loss: 0.8743 - val_accuracy: 0.6637\n",
      "Epoch 6/100\n",
      "218/218 [==============================] - 61s 277ms/step - loss: 0.6499 - accuracy: 0.7659 - val_loss: 0.5742 - val_accuracy: 0.7923\n",
      "Epoch 7/100\n",
      "218/218 [==============================] - 58s 263ms/step - loss: 0.5665 - accuracy: 0.7910 - val_loss: 0.6616 - val_accuracy: 0.7547\n",
      "Epoch 8/100\n",
      "218/218 [==============================] - 59s 269ms/step - loss: 0.5385 - accuracy: 0.8086 - val_loss: 0.4744 - val_accuracy: 0.8363\n",
      "Epoch 9/100\n",
      "218/218 [==============================] - 59s 270ms/step - loss: 0.4675 - accuracy: 0.8330 - val_loss: 0.5340 - val_accuracy: 0.8067\n",
      "Epoch 10/100\n",
      "218/218 [==============================] - 58s 266ms/step - loss: 0.4271 - accuracy: 0.8513 - val_loss: 0.6911 - val_accuracy: 0.7667\n",
      "Epoch 11/100\n",
      "218/218 [==============================] - 59s 269ms/step - loss: 0.4238 - accuracy: 0.8509 - val_loss: 0.5265 - val_accuracy: 0.8173\n",
      "Epoch 12/100\n",
      "218/218 [==============================] - 59s 268ms/step - loss: 0.3902 - accuracy: 0.8669 - val_loss: 0.4487 - val_accuracy: 0.8443\n",
      "Epoch 13/100\n",
      "218/218 [==============================] - 59s 268ms/step - loss: 0.3561 - accuracy: 0.8726 - val_loss: 0.3989 - val_accuracy: 0.8537\n",
      "Epoch 14/100\n",
      "218/218 [==============================] - 63s 287ms/step - loss: 0.3579 - accuracy: 0.8771 - val_loss: 0.3709 - val_accuracy: 0.8760\n",
      "Epoch 15/100\n",
      "218/218 [==============================] - 70s 318ms/step - loss: 0.3108 - accuracy: 0.8894 - val_loss: 0.3924 - val_accuracy: 0.8603\n",
      "Epoch 16/100\n",
      "218/218 [==============================] - 67s 306ms/step - loss: 0.2971 - accuracy: 0.8940 - val_loss: 0.2440 - val_accuracy: 0.9110\n",
      "Epoch 17/100\n",
      "218/218 [==============================] - 66s 303ms/step - loss: 0.2848 - accuracy: 0.8987 - val_loss: 0.3337 - val_accuracy: 0.8850\n",
      "Epoch 18/100\n",
      "218/218 [==============================] - 68s 312ms/step - loss: 0.2406 - accuracy: 0.9160 - val_loss: 0.2538 - val_accuracy: 0.9090\n",
      "Epoch 19/100\n",
      "218/218 [==============================] - 67s 307ms/step - loss: 0.2426 - accuracy: 0.9194 - val_loss: 0.2812 - val_accuracy: 0.8973\n",
      "Epoch 20/100\n",
      "218/218 [==============================] - 72s 329ms/step - loss: 0.2234 - accuracy: 0.9210 - val_loss: 0.2899 - val_accuracy: 0.8967\n",
      "Epoch 21/100\n",
      "218/218 [==============================] - 66s 302ms/step - loss: 0.2259 - accuracy: 0.9217 - val_loss: 0.2652 - val_accuracy: 0.9073\n",
      "Epoch 22/100\n",
      "218/218 [==============================] - 65s 299ms/step - loss: 0.2171 - accuracy: 0.9261 - val_loss: 0.3222 - val_accuracy: 0.8877\n",
      "Epoch 23/100\n",
      "218/218 [==============================] - 65s 295ms/step - loss: 0.1874 - accuracy: 0.9331 - val_loss: 0.2580 - val_accuracy: 0.9133\n",
      "Epoch 24/100\n",
      "218/218 [==============================] - 65s 297ms/step - loss: 0.1818 - accuracy: 0.9353 - val_loss: 0.4100 - val_accuracy: 0.8707\n",
      "Epoch 25/100\n",
      "218/218 [==============================] - 66s 300ms/step - loss: 0.1963 - accuracy: 0.9299 - val_loss: 0.2585 - val_accuracy: 0.9123\n",
      "Epoch 26/100\n",
      "218/218 [==============================] - 68s 312ms/step - loss: 0.2129 - accuracy: 0.9259 - val_loss: 0.2067 - val_accuracy: 0.9277\n",
      "Epoch 27/100\n",
      "218/218 [==============================] - 67s 308ms/step - loss: 0.1745 - accuracy: 0.9367 - val_loss: 0.2177 - val_accuracy: 0.9257\n",
      "Epoch 28/100\n",
      "218/218 [==============================] - 70s 317ms/step - loss: 0.1830 - accuracy: 0.9341 - val_loss: 0.2638 - val_accuracy: 0.9087\n",
      "Epoch 29/100\n",
      "218/218 [==============================] - 66s 301ms/step - loss: 0.1913 - accuracy: 0.9309 - val_loss: 0.3535 - val_accuracy: 0.8907\n",
      "Epoch 30/100\n",
      "218/218 [==============================] - 65s 297ms/step - loss: 0.1732 - accuracy: 0.9403 - val_loss: 0.2563 - val_accuracy: 0.9083\n",
      "Epoch 31/100\n",
      "218/218 [==============================] - 65s 297ms/step - loss: 0.1675 - accuracy: 0.9357 - val_loss: 0.2179 - val_accuracy: 0.9243\n",
      "Epoch 32/100\n",
      "218/218 [==============================] - 62s 283ms/step - loss: 0.1694 - accuracy: 0.9374 - val_loss: 0.2315 - val_accuracy: 0.9170\n",
      "Epoch 33/100\n",
      "218/218 [==============================] - 57s 260ms/step - loss: 0.1721 - accuracy: 0.9421 - val_loss: 0.2360 - val_accuracy: 0.9213\n",
      "Epoch 34/100\n",
      "218/218 [==============================] - 56s 256ms/step - loss: 0.1369 - accuracy: 0.9551 - val_loss: 0.2029 - val_accuracy: 0.9310\n",
      "Epoch 35/100\n",
      "218/218 [==============================] - 57s 261ms/step - loss: 0.1358 - accuracy: 0.9536 - val_loss: 0.1799 - val_accuracy: 0.9427\n",
      "Epoch 36/100\n",
      "218/218 [==============================] - 57s 258ms/step - loss: 0.1338 - accuracy: 0.9510 - val_loss: 0.2249 - val_accuracy: 0.9273\n",
      "Epoch 37/100\n",
      "218/218 [==============================] - 57s 259ms/step - loss: 0.1445 - accuracy: 0.9483 - val_loss: 0.1884 - val_accuracy: 0.9357\n",
      "Epoch 38/100\n",
      "218/218 [==============================] - 56s 254ms/step - loss: 0.1067 - accuracy: 0.9626 - val_loss: 0.1620 - val_accuracy: 0.9443\n",
      "Epoch 39/100\n",
      "218/218 [==============================] - 56s 256ms/step - loss: 0.1196 - accuracy: 0.9599 - val_loss: 0.1861 - val_accuracy: 0.9407\n",
      "Epoch 40/100\n",
      "218/218 [==============================] - 56s 254ms/step - loss: 0.1447 - accuracy: 0.9511 - val_loss: 0.2723 - val_accuracy: 0.9073\n",
      "Epoch 41/100\n",
      "218/218 [==============================] - 56s 256ms/step - loss: 0.1295 - accuracy: 0.9553 - val_loss: 0.2708 - val_accuracy: 0.9140\n",
      "Epoch 42/100\n",
      "218/218 [==============================] - 56s 256ms/step - loss: 0.1103 - accuracy: 0.9627 - val_loss: 0.1833 - val_accuracy: 0.9390\n",
      "Epoch 43/100\n",
      "218/218 [==============================] - 57s 259ms/step - loss: 0.1396 - accuracy: 0.9537 - val_loss: 0.2364 - val_accuracy: 0.9193\n",
      "Epoch 44/100\n",
      "218/218 [==============================] - 57s 262ms/step - loss: 0.1351 - accuracy: 0.9534 - val_loss: 0.2031 - val_accuracy: 0.9347\n",
      "Epoch 45/100\n",
      "218/218 [==============================] - 59s 267ms/step - loss: 0.1220 - accuracy: 0.9596 - val_loss: 0.2276 - val_accuracy: 0.9257\n",
      "Epoch 46/100\n",
      "218/218 [==============================] - 58s 262ms/step - loss: 0.0915 - accuracy: 0.9684 - val_loss: 0.1780 - val_accuracy: 0.9377\n",
      "Epoch 47/100\n",
      "218/218 [==============================] - 57s 260ms/step - loss: 0.1081 - accuracy: 0.9604 - val_loss: 0.2338 - val_accuracy: 0.9280\n",
      "Epoch 48/100\n",
      "218/218 [==============================] - 58s 265ms/step - loss: 0.1027 - accuracy: 0.9637 - val_loss: 0.1479 - val_accuracy: 0.9487\n",
      "Epoch 49/100\n",
      "218/218 [==============================] - 57s 262ms/step - loss: 0.0792 - accuracy: 0.9724 - val_loss: 0.1725 - val_accuracy: 0.9477\n",
      "Epoch 50/100\n",
      "218/218 [==============================] - 57s 262ms/step - loss: 0.1081 - accuracy: 0.9634 - val_loss: 0.1727 - val_accuracy: 0.9373\n",
      "Epoch 51/100\n",
      "218/218 [==============================] - 60s 272ms/step - loss: 0.0931 - accuracy: 0.9671 - val_loss: 0.1715 - val_accuracy: 0.9423\n",
      "Epoch 52/100\n",
      "218/218 [==============================] - 60s 272ms/step - loss: 0.1064 - accuracy: 0.9649 - val_loss: 0.3857 - val_accuracy: 0.8883\n",
      "Epoch 53/100\n",
      "218/218 [==============================] - 60s 273ms/step - loss: 0.1036 - accuracy: 0.9636 - val_loss: 0.1533 - val_accuracy: 0.9510\n",
      "Epoch 54/100\n",
      "218/218 [==============================] - 59s 271ms/step - loss: 0.0695 - accuracy: 0.9747 - val_loss: 0.2474 - val_accuracy: 0.9233\n",
      "Epoch 55/100\n",
      "218/218 [==============================] - 59s 270ms/step - loss: 0.0933 - accuracy: 0.9677 - val_loss: 0.1616 - val_accuracy: 0.9500\n",
      "Epoch 56/100\n",
      "218/218 [==============================] - 58s 266ms/step - loss: 0.0853 - accuracy: 0.9717 - val_loss: 0.1699 - val_accuracy: 0.9443\n"
     ]
    },
    {
     "name": "stdout",
     "output_type": "stream",
     "text": [
      "Epoch 57/100\n",
      "218/218 [==============================] - 60s 272ms/step - loss: 0.0811 - accuracy: 0.9723 - val_loss: 0.2122 - val_accuracy: 0.9367\n",
      "Epoch 58/100\n",
      "218/218 [==============================] - 60s 275ms/step - loss: 0.0836 - accuracy: 0.9690 - val_loss: 0.1631 - val_accuracy: 0.9463\n",
      "Epoch 59/100\n",
      "218/218 [==============================] - 62s 281ms/step - loss: 0.0778 - accuracy: 0.9741 - val_loss: 0.2686 - val_accuracy: 0.9207\n",
      "Epoch 60/100\n",
      "218/218 [==============================] - 62s 285ms/step - loss: 0.0896 - accuracy: 0.9703 - val_loss: 0.1638 - val_accuracy: 0.9513\n",
      "Epoch 61/100\n",
      "218/218 [==============================] - 61s 278ms/step - loss: 0.0812 - accuracy: 0.9727 - val_loss: 0.2355 - val_accuracy: 0.9257\n",
      "Epoch 62/100\n",
      "218/218 [==============================] - 62s 282ms/step - loss: 0.0771 - accuracy: 0.9737 - val_loss: 0.1899 - val_accuracy: 0.9430\n",
      "Epoch 63/100\n",
      "218/218 [==============================] - 61s 279ms/step - loss: 0.0853 - accuracy: 0.9701 - val_loss: 0.1755 - val_accuracy: 0.9457\n",
      "Epoch 64/100\n",
      "218/218 [==============================] - 61s 279ms/step - loss: 0.0466 - accuracy: 0.9833 - val_loss: 0.1379 - val_accuracy: 0.9600\n",
      "Epoch 65/100\n",
      "218/218 [==============================] - 62s 284ms/step - loss: 0.0964 - accuracy: 0.9691 - val_loss: 0.2153 - val_accuracy: 0.9400\n",
      "Epoch 66/100\n",
      "218/218 [==============================] - 61s 279ms/step - loss: 0.0770 - accuracy: 0.9743 - val_loss: 0.1338 - val_accuracy: 0.9587\n",
      "Epoch 67/100\n",
      "218/218 [==============================] - 61s 277ms/step - loss: 0.0806 - accuracy: 0.9729 - val_loss: 0.2742 - val_accuracy: 0.9257\n",
      "Epoch 68/100\n",
      "218/218 [==============================] - 60s 273ms/step - loss: 0.0634 - accuracy: 0.9781 - val_loss: 0.1991 - val_accuracy: 0.9470\n",
      "Epoch 69/100\n",
      "218/218 [==============================] - 61s 277ms/step - loss: 0.0473 - accuracy: 0.9849 - val_loss: 0.2578 - val_accuracy: 0.9250\n",
      "Epoch 70/100\n",
      "218/218 [==============================] - 61s 277ms/step - loss: 0.0877 - accuracy: 0.9709 - val_loss: 0.1777 - val_accuracy: 0.9487\n",
      "Epoch 71/100\n",
      "218/218 [==============================] - 60s 276ms/step - loss: 0.0881 - accuracy: 0.9696 - val_loss: 0.1561 - val_accuracy: 0.9527\n",
      "Epoch 72/100\n",
      "218/218 [==============================] - 61s 281ms/step - loss: 0.0652 - accuracy: 0.9784 - val_loss: 0.1954 - val_accuracy: 0.9443\n",
      "Epoch 73/100\n",
      "218/218 [==============================] - 63s 287ms/step - loss: 0.0700 - accuracy: 0.9766 - val_loss: 0.1859 - val_accuracy: 0.9440\n",
      "Epoch 74/100\n",
      "218/218 [==============================] - 59s 269ms/step - loss: 0.0589 - accuracy: 0.9809 - val_loss: 0.1962 - val_accuracy: 0.9390\n",
      "Epoch 75/100\n",
      "218/218 [==============================] - 61s 277ms/step - loss: 0.0740 - accuracy: 0.9730 - val_loss: 0.1741 - val_accuracy: 0.9467\n",
      "Epoch 76/100\n",
      "218/218 [==============================] - 60s 271ms/step - loss: 0.0570 - accuracy: 0.9790 - val_loss: 0.1406 - val_accuracy: 0.9510\n",
      "Epoch 77/100\n",
      "218/218 [==============================] - 60s 275ms/step - loss: 0.0486 - accuracy: 0.9840 - val_loss: 0.1707 - val_accuracy: 0.9550\n",
      "Epoch 78/100\n",
      "218/218 [==============================] - 59s 272ms/step - loss: 0.0733 - accuracy: 0.9760 - val_loss: 0.2143 - val_accuracy: 0.9393\n",
      "Epoch 79/100\n",
      "218/218 [==============================] - 59s 267ms/step - loss: 0.0688 - accuracy: 0.9769 - val_loss: 0.1959 - val_accuracy: 0.9460\n",
      "Epoch 80/100\n",
      "218/218 [==============================] - 59s 270ms/step - loss: 0.0449 - accuracy: 0.9846 - val_loss: 0.2569 - val_accuracy: 0.9380\n",
      "Epoch 81/100\n",
      "218/218 [==============================] - 59s 268ms/step - loss: 0.0702 - accuracy: 0.9790 - val_loss: 0.1360 - val_accuracy: 0.9603\n",
      "Epoch 82/100\n",
      "218/218 [==============================] - 60s 273ms/step - loss: 0.0495 - accuracy: 0.9837 - val_loss: 0.1798 - val_accuracy: 0.9530\n",
      "Epoch 83/100\n",
      "218/218 [==============================] - 58s 266ms/step - loss: 0.0644 - accuracy: 0.9773 - val_loss: 0.1684 - val_accuracy: 0.9490\n",
      "Epoch 84/100\n",
      "218/218 [==============================] - 59s 271ms/step - loss: 0.1004 - accuracy: 0.9697 - val_loss: 0.1459 - val_accuracy: 0.9540\n",
      "Epoch 85/100\n",
      "218/218 [==============================] - 59s 268ms/step - loss: 0.0582 - accuracy: 0.9814 - val_loss: 0.1811 - val_accuracy: 0.9490\n",
      "Epoch 86/100\n",
      "218/218 [==============================] - 60s 275ms/step - loss: 0.0364 - accuracy: 0.9880 - val_loss: 0.2563 - val_accuracy: 0.9377\n",
      "Epoch 87/100\n",
      "218/218 [==============================] - 61s 278ms/step - loss: 0.0585 - accuracy: 0.9813 - val_loss: 0.1957 - val_accuracy: 0.9523\n",
      "Epoch 88/100\n",
      "218/218 [==============================] - 61s 278ms/step - loss: 0.0660 - accuracy: 0.9790 - val_loss: 0.1718 - val_accuracy: 0.9507\n",
      "Epoch 89/100\n",
      "218/218 [==============================] - 61s 279ms/step - loss: 0.0533 - accuracy: 0.9836 - val_loss: 0.2553 - val_accuracy: 0.9383\n",
      "Epoch 90/100\n",
      "218/218 [==============================] - 61s 280ms/step - loss: 0.0513 - accuracy: 0.9824 - val_loss: 0.1650 - val_accuracy: 0.9527\n",
      "Epoch 91/100\n",
      "218/218 [==============================] - 60s 275ms/step - loss: 0.0646 - accuracy: 0.9774 - val_loss: 0.1921 - val_accuracy: 0.9413\n",
      "Epoch 92/100\n",
      "218/218 [==============================] - 60s 276ms/step - loss: 0.0577 - accuracy: 0.9794 - val_loss: 0.1566 - val_accuracy: 0.9533\n",
      "Epoch 93/100\n",
      "218/218 [==============================] - 59s 271ms/step - loss: 0.0565 - accuracy: 0.9801 - val_loss: 0.1634 - val_accuracy: 0.9573\n",
      "Epoch 94/100\n",
      "218/218 [==============================] - 61s 278ms/step - loss: 0.0611 - accuracy: 0.9799 - val_loss: 0.1270 - val_accuracy: 0.9613\n",
      "Epoch 95/100\n",
      "218/218 [==============================] - 59s 272ms/step - loss: 0.0661 - accuracy: 0.9799 - val_loss: 0.2308 - val_accuracy: 0.9350\n",
      "Epoch 96/100\n",
      "218/218 [==============================] - 59s 268ms/step - loss: 0.0522 - accuracy: 0.9830 - val_loss: 0.1475 - val_accuracy: 0.9573\n",
      "Epoch 97/100\n",
      "218/218 [==============================] - 59s 268ms/step - loss: 0.0264 - accuracy: 0.9911 - val_loss: 0.1288 - val_accuracy: 0.9680\n",
      "Epoch 98/100\n",
      "218/218 [==============================] - 58s 267ms/step - loss: 0.0598 - accuracy: 0.9814 - val_loss: 0.1399 - val_accuracy: 0.9597\n",
      "Epoch 99/100\n",
      "218/218 [==============================] - 59s 270ms/step - loss: 0.0589 - accuracy: 0.9797 - val_loss: 0.2236 - val_accuracy: 0.9350\n",
      "Epoch 100/100\n",
      "218/218 [==============================] - 61s 278ms/step - loss: 0.0454 - accuracy: 0.9853 - val_loss: 0.1956 - val_accuracy: 0.9487\n"
     ]
    }
   ],
   "source": [
    "history = cnn.fit(x = train_gen,\n",
    "                    callbacks = [es], \n",
    "                    steps_per_epoch = 7000/32,\n",
    "                    epochs = 100,\n",
    "                    validation_steps = 3000/32,\n",
    "                    validation_data = val_gen) "
   ]
  },
  {
   "cell_type": "code",
   "execution_count": 21,
   "id": "0d0196cb",
   "metadata": {},
   "outputs": [
    {
     "name": "stdout",
     "output_type": "stream",
     "text": [
      "31/31 [==============================] - 13s 405ms/step - loss: 0.3172 - accuracy: 0.9289\n"
     ]
    }
   ],
   "source": [
    "scores = cnn.evaluate(test_gen)"
   ]
  },
  {
   "cell_type": "code",
   "execution_count": 22,
   "id": "7a95061b",
   "metadata": {
    "collapsed": true
   },
   "outputs": [
    {
     "data": {
      "image/png": "[encoded data removed]",
      "text/plain": [
       "<Figure size 640x480 with 1 Axes>"
      ]
     },
     "metadata": {},
     "output_type": "display_data"
    },
    {
     "data": {
      "image/png": "[encoded data removed]",
      "text/plain": [
       "<Figure size 640x480 with 1 Axes>"
      ]
     },
     "metadata": {},
     "output_type": "display_data"
    }
   ],
   "source": [
    "# plot the loss\n",
    "plt.plot(history.history['loss'], label='Training loss')\n",
    "plt.plot(history.history['val_loss'], label='Validation loss')\n",
    "plt.legend()\n",
    "plt.show()\n",
    "\n",
    "# plot the accuracy\n",
    "plt.plot(history.history['accuracy'], label='Training accuracy')\n",
    "plt.plot(history.history['val_accuracy'], label='Validation accuracy')\n",
    "plt.legend()\n",
    "plt.show()"
   ]
  },
  {
   "cell_type": "code",
   "execution_count": 23,
   "id": "8cfc1821",
   "metadata": {},
   "outputs": [],
   "source": [
    "cnn.save('cnn.h5')"
   ]
  },
  {
   "cell_type": "code",
   "execution_count": 29,
   "id": "a235ab96",
   "metadata": {},
   "outputs": [],
   "source": [
    "import math\n",
    "test_steps_per_epoch = math.ceil(test_gen.samples / test_gen.batch_size)"
   ]
  },
  {
   "cell_type": "code",
   "execution_count": 30,
   "id": "32fdf1af",
   "metadata": {},
   "outputs": [
    {
     "name": "stdout",
     "output_type": "stream",
     "text": [
      "31/31 [==============================] - 6s 184ms/step\n"
     ]
    }
   ],
   "source": [
    "predictions = cnn.predict(test_gen, steps=test_steps_per_epoch)"
   ]
  },
  {
   "cell_type": "code",
   "execution_count": 33,
   "id": "0074125f",
   "metadata": {},
   "outputs": [
    {
     "data": {
      "text/plain": [
       "array([9.9668914e-01, 6.0261285e-04, 9.1766460e-06, 1.5571530e-04,\n",
       "       3.8375612e-04, 1.3220072e-06, 1.8613475e-03, 2.9644123e-04,\n",
       "       2.9891658e-07, 1.4754268e-07], dtype=float32)"
      ]
     },
     "execution_count": 33,
     "metadata": {},
     "output_type": "execute_result"
    }
   ],
   "source": [
    "predictions[1]"
   ]
  },
  {
   "cell_type": "code",
   "execution_count": 34,
   "id": "3e584d0a",
   "metadata": {},
   "outputs": [],
   "source": [
    "predicted_classes = np.argmax(predictions,axis=1)"
   ]
  },
  {
   "cell_type": "code",
   "execution_count": 35,
   "id": "efc22890",
   "metadata": {},
   "outputs": [],
   "source": [
    "true_classes = test_gen.classes\n",
    "class_labels = list(test_gen.class_indices.keys())"
   ]
  },
  {
   "cell_type": "code",
   "execution_count": 36,
   "id": "78a79771",
   "metadata": {},
   "outputs": [
    {
     "name": "stdout",
     "output_type": "stream",
     "text": [
      "[[98  0  0  1  0  0  0  1  0  0]\n",
      " [ 0 84  3  1 11  0  0  1  0  0]\n",
      " [ 0  0 87  5  7  0  0  1  0  0]\n",
      " [ 0  0  0 96  2  0  0  0  1  1]\n",
      " [ 0  0  3  3 94  0  0  0  0  0]\n",
      " [ 0  0  0  1  0 80  2  0  0  1]\n",
      " [ 0  3  0  2 10  4 81  0  0  0]\n",
      " [ 2  1  0  0  0  0  0 97  0  0]\n",
      " [ 0  1  0  0  1  0  0  0 98  0]\n",
      " [ 0  0  1  2  1  0  0  0  0 96]]\n"
     ]
    }
   ],
   "source": [
    "confusion_matrix = confusion_matrix(test_gen.classes, predicted_classes)\n",
    "print(confusion_matrix)"
   ]
  },
  {
   "cell_type": "code",
   "execution_count": 37,
   "id": "43b28296",
   "metadata": {},
   "outputs": [
    {
     "name": "stdout",
     "output_type": "stream",
     "text": [
      "                                               precision    recall  f1-score   support\n",
      "\n",
      "                      Tomato___Bacterial_spot       0.98      0.98      0.98       100\n",
      "                        Tomato___Early_blight       0.94      0.84      0.89       100\n",
      "                         Tomato___Late_blight       0.93      0.87      0.90       100\n",
      "                           Tomato___Leaf_Mold       0.86      0.96      0.91       100\n",
      "                  Tomato___Septoria_leaf_spot       0.75      0.94      0.83       100\n",
      "Tomato___Spider_mites Two-spotted_spider_mite       0.95      0.95      0.95        84\n",
      "                         Tomato___Target_Spot       0.98      0.81      0.89       100\n",
      "       Tomato___Tomato_Yellow_Leaf_Curl_Virus       0.97      0.97      0.97       100\n",
      "                 Tomato___Tomato_mosaic_virus       0.99      0.98      0.98       100\n",
      "                             Tomato___healthy       0.98      0.96      0.97       100\n",
      "\n",
      "                                     accuracy                           0.93       984\n",
      "                                    macro avg       0.93      0.93      0.93       984\n",
      "                                 weighted avg       0.93      0.93      0.93       984\n",
      "\n"
     ]
    }
   ],
   "source": [
    "report = classification_report(true_classes, predicted_classes, target_names=class_labels)\n",
    "print(report)"
   ]
  },
  {
   "cell_type": "code",
   "execution_count": null,
   "id": "b0345e0a",
   "metadata": {},
   "outputs": [],
   "source": []
  }
 ],
 "metadata": {
  "kernelspec": {
   "display_name": "Python 3 (ipykernel)",
   "language": "python",
   "name": "python3"
  },
  "language_info": {
   "codemirror_mode": {
    "name": "ipython",
    "version": 3
   },
   "file_extension": ".py",
   "mimetype": "text/x-python",
   "name": "python",
   "nbconvert_exporter": "python",
   "pygments_lexer": "ipython3",
   "version": "3.9.18"
  }
 },
 "nbformat": 4,
 "nbformat_minor": 5
}
