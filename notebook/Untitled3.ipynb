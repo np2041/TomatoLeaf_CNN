{
 "cells": [
  {
   "cell_type": "code",
   "execution_count": 1,
   "id": "262b5179",
   "metadata": {},
   "outputs": [
    {
     "name": "stdout",
     "output_type": "stream",
     "text": [
      "WARNING:tensorflow:From C:\\Users\\Niranjan\\anaconda3\\Lib\\site-packages\\keras\\src\\losses.py:2976: The name tf.losses.sparse_softmax_cross_entropy is deprecated. Please use tf.compat.v1.losses.sparse_softmax_cross_entropy instead.\n",
      "\n"
     ]
    }
   ],
   "source": [
    "#Importing all necessary libraries for this model \n",
    "\n",
    "import numpy as np\n",
    "import matplotlib.pyplot as plt\n",
    "%matplotlib inline\n",
    "import tensorflow as tf\n",
    "import pandas as pd\n",
    "import os, requests, cv2, random\n",
    "import math\n",
    "\n",
    "from tensorflow import keras\n",
    "from tensorflow.keras.models import Sequential\n",
    "from tensorflow.keras.layers import Conv2D, MaxPooling2D, Flatten, Dense\n",
    "from tensorflow.keras.callbacks import EarlyStopping\n",
    "from tensorflow.keras.optimizers import Adam\n",
    "from tensorflow.keras.preprocessing import image\n",
    "from tensorflow.keras import models\n",
    "from tensorflow.keras import Sequential, layers\n",
    "\n",
    "from keras.preprocessing.image import ImageDataGenerator\n",
    "\n",
    "from sklearn.metrics import confusion_matrix,classification_report"
   ]
  },
  {
   "cell_type": "code",
   "execution_count": 124,
   "id": "6f1a3034",
   "metadata": {},
   "outputs": [
    {
     "name": "stdout",
     "output_type": "stream",
     "text": [
      "[[[[0.37254903 0.37254903 0.38039216]\n",
      "   [0.3764706  0.3764706  0.38431373]\n",
      "   [0.37254903 0.37254903 0.38039216]\n",
      "   ...\n",
      "   [0.52156866 0.5294118  0.5254902 ]\n",
      "   [0.5254902  0.53333336 0.5294118 ]\n",
      "   [0.5254902  0.53333336 0.5294118 ]]\n",
      "\n",
      "  [[0.3882353  0.3882353  0.39607844]\n",
      "   [0.3882353  0.3882353  0.39607844]\n",
      "   [0.38431373 0.38431373 0.39215687]\n",
      "   ...\n",
      "   [0.52156866 0.5294118  0.5254902 ]\n",
      "   [0.5176471  0.5254902  0.52156866]\n",
      "   [0.5058824  0.5137255  0.50980395]]\n",
      "\n",
      "  [[0.39215687 0.39215687 0.4       ]\n",
      "   [0.3882353  0.3882353  0.39607844]\n",
      "   [0.38431373 0.38431373 0.39215687]\n",
      "   ...\n",
      "   [0.5254902  0.53333336 0.5294118 ]\n",
      "   [0.52156866 0.5294118  0.5254902 ]\n",
      "   [0.50980395 0.5176471  0.5137255 ]]\n",
      "\n",
      "  ...\n",
      "\n",
      "  [[0.3764706  0.37254903 0.3529412 ]\n",
      "   [0.3647059  0.36078432 0.34117648]\n",
      "   [0.3529412  0.34901962 0.32941177]\n",
      "   ...\n",
      "   [0.5058824  0.5058824  0.49803922]\n",
      "   [0.5058824  0.5058824  0.49803922]\n",
      "   [0.5058824  0.5058824  0.49803922]]\n",
      "\n",
      "  [[0.37254903 0.36862746 0.34901962]\n",
      "   [0.3647059  0.36078432 0.34117648]\n",
      "   [0.35686275 0.3529412  0.33333334]\n",
      "   ...\n",
      "   [0.50980395 0.50980395 0.5019608 ]\n",
      "   [0.5058824  0.5058824  0.49803922]\n",
      "   [0.5019608  0.5019608  0.49411765]]\n",
      "\n",
      "  [[0.3764706  0.37254903 0.3529412 ]\n",
      "   [0.36862746 0.3647059  0.34509805]\n",
      "   [0.36078432 0.35686275 0.3372549 ]\n",
      "   ...\n",
      "   [0.50980395 0.50980395 0.5019608 ]\n",
      "   [0.5019608  0.5019608  0.49411765]\n",
      "   [0.49803922 0.49803922 0.49019608]]]]\n"
     ]
    }
   ],
   "source": [
    "import numpy as np\n",
    "import matplotlib.pyplot as plt\n",
    "from tensorflow.keras.models import load_model\n",
    "from tensorflow.keras.preprocessing import image\n",
    "from tensorflow.keras import backend as K\n",
    "\n",
    "# Load the model\n",
    "model = load_model(\"C:\\\\Users\\\\Niranjan\\\\Documents\\\\Data mining\\\\archive (1)\\\\cnn.h5\")\n",
    "\n",
    "# Choose the layer index you want to visualize\n",
    "layer_index = 0\n",
    "\n",
    "# Change this to the index of the layer you want to visualize\n",
    "\n",
    "# Load the image and preprocess it\n",
    "img_path = \"C:\\\\Users\\\\Niranjan\\\\Documents\\\\Data mining\\\\archive (1)\\\\tomato\\\\101.JPG\"\n",
    "img = image.load_img(img_path, target_size=(224, 224))\n",
    "img_array = image.img_to_array(img)\n",
    "img_array = np.expand_dims(img_array, axis=0)\n",
    "img_array /= 255.0\n",
    "\n",
    "# Function to get the output of an intermediate layer\n",
    "get_layer_output = K.function([model.layers[0].input], [model.layers[layer_index].output])\n",
    "layer_output = get_layer_output([img_array])[0]\n",
    "print(img_array*)\n",
    "# Display the output of the intermediate layer\n",
    "#plt.figure(figsize=(10, 5))\n",
    "#plt.imshow(layer_output[0, :, :, 6], cmap='viridis')  # Adjust the channel index if needed\n",
    "#plt.title(f'Output of Layer {layer_index}')\n",
    "#plt.show()\n"
   ]
  },
  {
   "cell_type": "code",
   "execution_count": null,
   "id": "dabaaea8",
   "metadata": {},
   "outputs": [],
   "source": []
  }
 ],
 "metadata": {
  "kernelspec": {
   "display_name": "Python 3 (ipykernel)",
   "language": "python",
   "name": "python3"
  },
  "language_info": {
   "codemirror_mode": {
    "name": "ipython",
    "version": 3
   },
   "file_extension": ".py",
   "mimetype": "text/x-python",
   "name": "python",
   "nbconvert_exporter": "python",
   "pygments_lexer": "ipython3",
   "version": "3.11.5"
  }
 },
 "nbformat": 4,
 "nbformat_minor": 5
}
